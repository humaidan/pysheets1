{
 "cells": [
  {
   "cell_type": "code",
   "execution_count": null,
   "metadata": {},
   "outputs": [],
   "source": [
    "!pip install openpyxl\n"
   ]
  },
  {
   "cell_type": "code",
   "execution_count": null,
   "metadata": {},
   "outputs": [],
   "source": [
    "import openpyxl\n",
    "from config import CONFIG"
   ]
  },
  {
   "cell_type": "code",
   "execution_count": null,
   "metadata": {},
   "outputs": [],
   "source": [
    "# warnings.simplefilter(\"ignore\", category=UserWarning)\n",
    "debug = True"
   ]
  },
  {
   "cell_type": "code",
   "execution_count": null,
   "metadata": {},
   "outputs": [],
   "source": [
    "print(\"Opening source sheet ...\")\n",
    "wb = openpyxl.load_workbook(CONFIG[\"excelfile\"])\n",
    "\n",
    "sheet1 = wb[CONFIG[\"sheetname_source\"]]\n",
    "sheet2 = wb[CONFIG[\"sheetname_dest\"]]"
   ]
  },
  {
   "cell_type": "code",
   "execution_count": null,
   "metadata": {},
   "outputs": [],
   "source": [
    "# import os\n",
    "# from google.colab import files\n",
    "\n",
    "\n",
    "# excel_path = os.path.join(os.getcwd(), CONFIG[\"excelfile\"])\n",
    "\n",
    "# if not os.path.isfile(excel_path):\n",
    "#     print(\"Excel file not found.\")\n",
    "#     print(\"Please upload the Excel file.\")\n",
    "\n",
    "#     # Prompt the user to upload the Excel file\n",
    "#     uploaded_files = files.upload()\n",
    "\n",
    "#     # Save the uploaded file\n",
    "#     for filename in uploaded_files.keys():\n",
    "#         os.rename(filename, excel_path)\n",
    "\n",
    "#         wb = openpyxl.load_workbook(filename)\n",
    "#         sheet1 = wb[CONFIG[\"sheetname_source\"]]\n",
    "#         sheet2 = wb[CONFIG[\"sheetname_dest\"]]\n",
    "\n",
    "#     print(\"Excel file uploaded and saved successfully.\")\n",
    "\n"
   ]
  },
  {
   "cell_type": "code",
   "execution_count": null,
   "metadata": {},
   "outputs": [],
   "source": [
    "print(\"Parsing and writing data ...\")\n",
    "\n",
    "sheets = 0\n",
    "start_row = CONFIG[\"start_row\"]\n",
    "\n",
    "# for row_no, row_val in enumerate(sheet1.iter_rows(min_row=start_row, max_row=12, values_only=True)):\n",
    "for row_no, row_val in enumerate(sheet1.iter_rows(min_row=start_row, values_only=True)):\n",
    "    if debug:\n",
    "        print(f\"- looping through record #{row_no+start_row}:\")\n",
    "    newsheet = wb.copy_worksheet(sheet2)\n",
    "    newsheet.showGridLines = False\n",
    "\n",
    "    if debug:\n",
    "        print(f\"\\t - set title to: {row_val[CONFIG['sysname_col']]} + {CONFIG['sysname_col_append']}:\")\n",
    "\n",
    "    newtitle = row_val[CONFIG[\"sysname_col\"]].rstrip()\n",
    "    if newtitle in CONFIG[\"short_titles\"]:\n",
    "        newtitle = CONFIG[\"short_titles\"][newtitle]\n",
    "\n",
    "    newtitle = newtitle.replace(\"- \", \"\")\n",
    "    max_title_chars = CONFIG[\"max_title_chars\"] - len(CONFIG[\"sysname_col_append\"])\n",
    "    if len(newtitle) > max_title_chars:\n",
    "        newtitle = newtitle[: max_title_chars - 1] + \".\"\n",
    "\n",
    "    newsheet.title = newtitle + CONFIG[\"sysname_col_append\"]\n",
    "\n",
    "    for target_cell, source_col_str in CONFIG[\"field_mapping\"].items():\n",
    "        # Read the value in \"All Services\" sheet in current row + config column\n",
    "        source_value = \"\"\n",
    "        if isinstance(source_col_str, str):\n",
    "            source_col_val = openpyxl.utils.column_index_from_string(source_col_str)\n",
    "            if debug:\n",
    "                print(f\"\\t - sheet1.cell(row={row_no+start_row}, column={source_col_val}).value\")\n",
    "            source_value = sheet1.cell(row=row_no + start_row, column=source_col_val).value\n",
    "            if source_value is None:\n",
    "                source_value = \"\"\n",
    "\n",
    "            if target_cell in CONFIG[\"pre_fills\"] and source_value:\n",
    "                source_value = CONFIG[\"pre_fills\"][target_cell] + str(source_value)\n",
    "\n",
    "            if debug:\n",
    "                print(f\"\\t - reading AllSystems[row={row_no + start_row}, column={source_col_val}]  =  {source_value}.\")\n",
    "\n",
    "        else:  # list of str\n",
    "            if debug:\n",
    "                print(f\"\\t - detected a source list {source_col_str}:\")\n",
    "\n",
    "            source_value = \"'\"\n",
    "            for col in source_col_str:\n",
    "                source_col_val = openpyxl.utils.column_index_from_string(col)\n",
    "                cell = sheet1.cell(row=row_no + start_row, column=source_col_val).value\n",
    "                if cell is not None:\n",
    "                    source_value += \"- \" + str(cell) + \"\\n\"\n",
    "\n",
    "        # Write value in new sheet\n",
    "        if debug:\n",
    "            print(f\"\\t=Setting {newsheet.title} sheet cell [{target_cell}] to value: {source_value}.\")\n",
    "        if debug:\n",
    "            print()\n",
    "        newsheet[target_cell] = str(source_value).rstrip()\n",
    "\n",
    "    sheets += 1\n"
   ]
  },
  {
   "cell_type": "code",
   "execution_count": null,
   "metadata": {},
   "outputs": [],
   "source": [
    "print(\"Cleaning ...\")\n",
    "# Close the workbook\n",
    "# wb.close()\n",
    "wb.save(CONFIG[\"modified_excelfile\"])\n",
    "# wb.close()\n",
    "\n",
    "print(f\"{sheets} new sheets added.\")\n",
    "print()\n"
   ]
  }
 ],
 "metadata": {
  "kernelspec": {
   "display_name": "Python 3",
   "language": "python",
   "name": "python3"
  },
  "language_info": {
   "codemirror_mode": {
    "name": "ipython",
    "version": 3
   },
   "file_extension": ".py",
   "mimetype": "text/x-python",
   "name": "python",
   "nbconvert_exporter": "python",
   "pygments_lexer": "ipython3",
   "version": "3.11.4"
  },
  "orig_nbformat": 4
 },
 "nbformat": 4,
 "nbformat_minor": 2
}
