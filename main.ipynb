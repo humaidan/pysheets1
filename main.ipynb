{
 "cells": [
  {
   "cell_type": "code",
   "execution_count": 7,
   "metadata": {},
   "outputs": [
    {
     "name": "stdout",
     "output_type": "stream",
     "text": [
      "Requirement already satisfied: openpyxl in /home/ubuntu/.pyenv/versions/3.11.4/lib/python3.11/site-packages (3.1.2)\n",
      "Requirement already satisfied: et-xmlfile in /home/ubuntu/.pyenv/versions/3.11.4/lib/python3.11/site-packages (from openpyxl) (1.1.0)\n"
     ]
    }
   ],
   "source": [
    "!pip install openpyxl\n"
   ]
  },
  {
   "cell_type": "code",
   "execution_count": 8,
   "metadata": {},
   "outputs": [],
   "source": [
    "import openpyxl\n",
    "# import warnings\n",
    "from config import CONFIG"
   ]
  },
  {
   "cell_type": "code",
   "execution_count": 9,
   "metadata": {},
   "outputs": [],
   "source": [
    "# warnings.simplefilter(\"ignore\", category=UserWarning)\n",
    "debug = True"
   ]
  },
  {
   "cell_type": "code",
   "execution_count": 10,
   "metadata": {},
   "outputs": [
    {
     "name": "stdout",
     "output_type": "stream",
     "text": [
      "Opening sheet ...\n"
     ]
    },
    {
     "name": "stderr",
     "output_type": "stream",
     "text": [
      "/home/ubuntu/.pyenv/versions/3.11.4/lib/python3.11/site-packages/openpyxl/worksheet/_reader.py:329: UserWarning: Unknown extension is not supported and will be removed\n",
      "  warn(msg)\n",
      "/home/ubuntu/.pyenv/versions/3.11.4/lib/python3.11/site-packages/openpyxl/worksheet/header_footer.py:48: UserWarning: Cannot parse header or footer so it will be ignored\n",
      "  warn(\"\"\"Cannot parse header or footer so it will be ignored\"\"\")\n"
     ]
    }
   ],
   "source": [
    "print(\"Opening sheet ...\")\n",
    "wb = openpyxl.load_workbook(CONFIG[\"excelfile\"])\n",
    "sheet1 = wb[CONFIG[\"sheetname_source\"]]\n",
    "sheet2 = wb[CONFIG[\"sheetname_dest\"]]"
   ]
  },
  {
   "cell_type": "code",
   "execution_count": 11,
   "metadata": {},
   "outputs": [],
   "source": [
    "# import os\n",
    "# from google.colab import files\n",
    "\n",
    "\n",
    "# excel_path = os.path.join(os.getcwd(), CONFIG[\"excelfile\"])\n",
    "\n",
    "# if not os.path.isfile(excel_path):\n",
    "#     print(\"Excel file not found.\")\n",
    "#     print(\"Please upload the Excel file.\")\n",
    "\n",
    "#     # Prompt the user to upload the Excel file\n",
    "#     uploaded_files = files.upload()\n",
    "\n",
    "#     # Save the uploaded file\n",
    "#     for filename in uploaded_files.keys():\n",
    "#         os.rename(filename, excel_path)\n",
    "\n",
    "#         wb = openpyxl.load_workbook(filename)\n",
    "#         sheet1 = wb[CONFIG[\"sheetname_source\"]]\n",
    "#         sheet2 = wb[CONFIG[\"sheetname_dest\"]]\n",
    "\n",
    "#     print(\"Excel file uploaded and saved successfully.\")\n",
    "\n"
   ]
  },
  {
   "cell_type": "code",
   "execution_count": 12,
   "metadata": {},
   "outputs": [
    {
     "name": "stdout",
     "output_type": "stream",
     "text": [
      "Parsing and writing data ...\n",
      "- looping through record #2:\n",
      "\t - set title to: Access Control  Service:\n",
      "\t - sheet1.cell(row=2, column=6).value\n",
      "\t - reading AllSystems[row=2, column=6]  =  HQ Access Control System.\n",
      "\t=Setting Access Control Service sheet cell [E5] to value: HQ Access Control System.\n",
      "\n",
      "\t - detected a source list ['E', 'F', 'G', 'I']:\n",
      "\t=Setting Access Control Service sheet cell [C8] to value: '- Suprema \n",
      "- HQ Access Control System\n",
      "- Cloud\n",
      ".\n",
      "\n",
      "\t - sheet1.cell(row=2, column=11).value\n",
      "\t - reading AllSystems[row=2, column=11]  =  Bin Hindi .\n",
      "\t=Setting Access Control Service sheet cell [H11] to value: Bin Hindi .\n",
      "\n",
      "\t - sheet1.cell(row=2, column=12).value\n",
      "\t - reading AllSystems[row=2, column=12]  =  BHD 1000.\n",
      "\t=Setting Access Control Service sheet cell [H8] to value: BHD 1000.\n",
      "\n",
      "\t - detected a source list ['S', 'T', 'U', 'V']:\n",
      "\t=Setting Access Control Service sheet cell [J8] to value: '- Avecto Defend Point\n",
      "- Biometric Access Device to the Server Room\n",
      "- on-premises components\n",
      ".\n",
      "\n",
      "\t - sheet1.cell(row=2, column=31).value\n",
      "\t - reading AllSystems[row=2, column=31]  =  Shared Service, Different System.\n",
      "\t=Setting Access Control Service sheet cell [D16] to value: Shared Service, Different System.\n",
      "\n",
      "\t - sheet1.cell(row=2, column=33).value\n",
      "\t - reading AllSystems[row=2, column=33]  =  .\n",
      "\t=Setting Access Control Service sheet cell [D20] to value: .\n",
      "\n",
      "\t - sheet1.cell(row=2, column=34).value\n",
      "\t - reading AllSystems[row=2, column=34]  =  .\n",
      "\t=Setting Access Control Service sheet cell [H16] to value: .\n",
      "\n",
      "\t - sheet1.cell(row=2, column=35).value\n",
      "\t - reading AllSystems[row=2, column=35]  =  .\n",
      "\t=Setting Access Control Service sheet cell [H20] to value: .\n",
      "\n",
      "\t - sheet1.cell(row=2, column=36).value\n",
      "\t - reading AllSystems[row=2, column=36]  =  .\n",
      "\t=Setting Access Control Service sheet cell [Q8] to value: .\n",
      "\n",
      "\t - sheet1.cell(row=2, column=37).value\n",
      "\t - reading AllSystems[row=2, column=37]  =  .\n",
      "\t=Setting Access Control Service sheet cell [Q18] to value: .\n",
      "\n"
     ]
    }
   ],
   "source": [
    "print(\"Parsing and writing data ...\")\n",
    "start_row = 2\n",
    "for row_no, row_val in enumerate(sheet1.iter_rows(min_row=start_row, max_row=2, values_only=True)):\n",
    "    if debug:\n",
    "        print(f\"- looping through record #{row_no+start_row}:\")\n",
    "    newsheet = wb.copy_worksheet(sheet2)\n",
    "    if debug:\n",
    "        print(f\"\\t - set title to: {row_val[CONFIG['sysname_col']] + CONFIG['sysname_col_append']}:\")\n",
    "    newsheet.title = row_val[CONFIG[\"sysname_col\"]].rstrip() + CONFIG[\"sysname_col_append\"]\n",
    "\n",
    "    for target_cell, source_col_str in CONFIG[\"field_mapping\"].items():\n",
    "        # Read the value in \"All Services\" sheet in current row + config column\n",
    "        source_value = \"\"\n",
    "        if isinstance(source_col_str, str):\n",
    "            source_col_val = openpyxl.utils.column_index_from_string(source_col_str)\n",
    "            if debug:\n",
    "                print(f\"\\t - sheet1.cell(row={row_no+start_row}, column={source_col_val}).value\")\n",
    "            source_value = sheet1.cell(row=row_no + start_row, column=source_col_val).value\n",
    "            if source_value is None:\n",
    "                source_value = \"\"\n",
    "\n",
    "            if target_cell in CONFIG[\"pre_fills\"] and source_value:\n",
    "                source_value = CONFIG[\"pre_fills\"][target_cell] + str(source_value)\n",
    "\n",
    "            if debug:\n",
    "                print(f\"\\t - reading AllSystems[row={row_no + start_row}, column={source_col_val}]  =  {source_value}.\")\n",
    "\n",
    "        else:  # list of str\n",
    "            if debug:\n",
    "                print(f\"\\t - detected a source list {source_col_str}:\")\n",
    "\n",
    "            source_value = \"'\"\n",
    "            for col in source_col_str:\n",
    "                source_col_val = openpyxl.utils.column_index_from_string(col)\n",
    "                cell = sheet1.cell(row=row_no + start_row, column=source_col_val).value\n",
    "                if cell is not None:\n",
    "                    source_value += \"- \" + cell + \"\\n\"\n",
    "\n",
    "        # Write value in new sheet\n",
    "        if debug:\n",
    "            print(f\"\\t=Setting {newsheet.title} sheet cell [{target_cell}] to value: {source_value}.\")\n",
    "        if debug:\n",
    "            print()\n",
    "        newsheet[target_cell] = str(source_value).rstrip()\n"
   ]
  },
  {
   "cell_type": "code",
   "execution_count": 13,
   "metadata": {},
   "outputs": [
    {
     "name": "stdout",
     "output_type": "stream",
     "text": [
      "Cleaning ...\n",
      "Done.\n"
     ]
    }
   ],
   "source": [
    "print(\"Cleaning ...\")\n",
    "# Close the workbook\n",
    "# wb.close()\n",
    "wb.save(CONFIG[\"modified_excelfile\"])\n",
    "wb.close()\n",
    "\n",
    "print(\"Done.\")"
   ]
  }
 ],
 "metadata": {
  "kernelspec": {
   "display_name": "Python 3",
   "language": "python",
   "name": "python3"
  },
  "language_info": {
   "codemirror_mode": {
    "name": "ipython",
    "version": 3
   },
   "file_extension": ".py",
   "mimetype": "text/x-python",
   "name": "python",
   "nbconvert_exporter": "python",
   "pygments_lexer": "ipython3",
   "version": "3.11.4"
  },
  "orig_nbformat": 4
 },
 "nbformat": 4,
 "nbformat_minor": 2
}
