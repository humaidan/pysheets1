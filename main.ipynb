{
 "cells": [
  {
   "cell_type": "code",
   "execution_count": 100,
   "metadata": {},
   "outputs": [],
   "source": [
    "import platform\n",
    "\n",
    "if 'google.colab' in platform.sys.modules:\n",
    "    !git clone https://github.com/humaidan/pysheets1.git"
   ]
  },
  {
   "cell_type": "code",
   "execution_count": 101,
   "metadata": {},
   "outputs": [
    {
     "name": "stdout",
     "output_type": "stream",
     "text": [
      "Requirement already satisfied: openpyxl in /home/ubuntu/.pyenv/versions/3.11.4/lib/python3.11/site-packages (3.1.2)\n",
      "Requirement already satisfied: et-xmlfile in /home/ubuntu/.pyenv/versions/3.11.4/lib/python3.11/site-packages (from openpyxl) (1.1.0)\n"
     ]
    }
   ],
   "source": [
    "!pip install openpyxl\n"
   ]
  },
  {
   "cell_type": "code",
   "execution_count": 102,
   "metadata": {},
   "outputs": [],
   "source": [
    "import openpyxl\n",
    "\n",
    "if 'google.colab' in platform.sys.modules:\n",
    "    from pysheets1.config import CONFIG\n",
    "else:\n",
    "    from config import CONFIG"
   ]
  },
  {
   "cell_type": "code",
   "execution_count": 103,
   "metadata": {},
   "outputs": [],
   "source": [
    "# warnings.simplefilter(\"ignore\", category=UserWarning)\n",
    "debug = False"
   ]
  },
  {
   "cell_type": "code",
   "execution_count": 104,
   "metadata": {},
   "outputs": [
    {
     "name": "stdout",
     "output_type": "stream",
     "text": [
      "Opening source sheet ...\n"
     ]
    }
   ],
   "source": [
    "print(\"Opening source sheet ...\")\n",
    "\n",
    "try:\n",
    "    if 'google.colab' in platform.sys.modules:\n",
    "        wb = openpyxl.load_workbook(\"pysheets1/\" + CONFIG[\"excelfile\"])\n",
    "    else:\n",
    "        wb = openpyxl.load_workbook(CONFIG[\"excelfile\"])\n",
    "\n",
    "except Exception as e:\n",
    "    print(f\"Source workbook [{CONFIG['excelfile']}] error: {e}\")\n",
    "    raise  # Raise an exception to halt further code execution\n"
   ]
  },
  {
   "cell_type": "code",
   "execution_count": 105,
   "metadata": {},
   "outputs": [],
   "source": [
    "# import os\n",
    "# from google.colab import files\n",
    "\n",
    "\n",
    "# excel_path = os.path.join(os.getcwd(), CONFIG[\"excelfile\"])\n",
    "\n",
    "# if not os.path.isfile(excel_path):\n",
    "#     print(\"Excel file not found.\")\n",
    "#     print(\"Please upload the Excel file.\")\n",
    "\n",
    "#     # Prompt the user to upload the Excel file\n",
    "#     uploaded_files = files.upload()\n",
    "\n",
    "#     # Save the uploaded file\n",
    "#     for filename in uploaded_files.keys():\n",
    "#         os.rename(filename, excel_path)\n",
    "\n",
    "#         wb = openpyxl.load_workbook(filename)\n",
    "#         sheet1 = wb[CONFIG[\"sheetname_source\"]]\n",
    "#         sheet2 = wb[CONFIG[\"sheetname_dest\"]]\n",
    "\n",
    "#     print(\"Excel file uploaded and saved successfully.\")\n",
    "\n"
   ]
  },
  {
   "cell_type": "code",
   "execution_count": 106,
   "metadata": {},
   "outputs": [
    {
     "name": "stdout",
     "output_type": "stream",
     "text": [
      "Parsing and writing data ...\n"
     ]
    }
   ],
   "source": [
    "print(\"Parsing and writing data ...\")\n",
    "\n",
    "sheets = 0\n",
    "start_row = CONFIG[\"start_row\"]\n",
    "sheet1 = wb[CONFIG[\"sheetname_source\"]]\n",
    "sheet2 = wb[CONFIG[\"sheetname_dest\"]]\n",
    "\n",
    "##########\n",
    "# attributes = dir(sheet2.conditional_formatting._cf_rules)\n",
    "# for attr in attributes:\n",
    "#     if not attr.startswith('__'):\n",
    "#         value = getattr(sheet2.conditional_formatting._cf_rules, attr)\n",
    "#         print(f\"{attr}: {value}\")\n",
    "#######\n",
    "# print(sheet2.conditional_formatting._cf_rules.items())\n",
    "# conditional_formatting1 = sheet2['C1'].conditional_formatting\n",
    "\n",
    "# for row_no, row_val in enumerate(sheet1.iter_rows(min_row=start_row, max_row=12, values_only=True)):\n",
    "for row_no, row_val in enumerate(sheet1.iter_rows(min_row=start_row, values_only=True)):\n",
    "    if debug:\n",
    "        print(f\"- looping through record #{row_no+start_row}:\")\n",
    "    newsheet = wb.copy_worksheet(sheet2)\n",
    "    newsheet.sheet_view.showGridLines = False\n",
    "\n",
    "########################\n",
    "    #copy conditional formatting\n",
    "    # print(newsheet.conditional_formatting)\n",
    "    # newsheet.conditional_formatting.add(\"C1\", sheet2.conditional_formatting.rules[0]) #.update(sheet2.conditional_formatting.cf_rules)\n",
    "\n",
    "    # conditional_formatting1 = sheet2.conditional_formatting\n",
    "    # for rule in conditional_formatting1.rules:\n",
    "    #     print(f'rule applied as {rule}')\n",
    "    #     newsheet.conditional_formatting.add(newsheet['C1'].coordinate, rule)\n",
    "    # newsheet.conditional_formatting._cf_rules.copy(sheet2.conditional_formatting._cf_rules)\n",
    "    # newsheet.conditional_formatting._cf_rules\n",
    "\n",
    "    \n",
    "    # Copy conditional formatting rules from the source sheet to the destination sheet\n",
    "    # for rule in sheet2.conditional_formatting._cf_rules:\n",
    "    #     new_rule = deepcopy(rule)\n",
    "    #     newsheet.conditional_formatting.add(rule.sqref, new_rule)\n",
    "\n",
    "    # for rule in sheet2.conditional_formatting._cf_rules:\n",
    "    #     sqref = deepcopy(rule.sqref)\n",
    "    #     new_rule = deepcopy(rule)\n",
    "    #     newsheet.conditional_formatting.add(sqref, new_rule)\n",
    "        # for cell_range in sqref.split(\",\"):\n",
    "        #     cells = newsheet[cell_range]\n",
    "        #     for cell in cells:\n",
    "        #         newsheet.conditional_formatting.add(cell.coordinate, rule)\n",
    "\n",
    "    newsheet.conditional_formatting._cf_rules = sheet2.conditional_formatting._cf_rules.copy()\n",
    "\n",
    "##########################\n",
    "\n",
    "\n",
    "    if debug:\n",
    "        print(f\"\\t - set title to: {row_val[CONFIG['sysname_col']]} + {CONFIG['sysname_col_append']}:\")\n",
    "\n",
    "    newtitle = row_val[CONFIG[\"sysname_col\"]].rstrip()\n",
    "    if newtitle in CONFIG[\"short_titles\"]:\n",
    "        newtitle = CONFIG[\"short_titles\"][newtitle]\n",
    "\n",
    "    newtitle = newtitle.replace(\"- \", \"\")\n",
    "    max_title_chars = CONFIG[\"max_title_chars\"] - len(CONFIG[\"sysname_col_append\"])\n",
    "    if len(newtitle) > max_title_chars:\n",
    "        newtitle = newtitle[: max_title_chars - 1] + \".\"\n",
    "\n",
    "    newsheet.title = newtitle + CONFIG[\"sysname_col_append\"]\n",
    "\n",
    "    for target_cell, source_col_str in CONFIG[\"field_mapping\"].items():\n",
    "        # Read the value in \"All Services\" sheet in current row + config column\n",
    "        source_value = \"\"\n",
    "        if isinstance(source_col_str, str):\n",
    "            source_col_val = openpyxl.utils.column_index_from_string(source_col_str)\n",
    "            if debug:\n",
    "                print(f\"\\t - sheet1.cell(row={row_no+start_row}, column={source_col_val}).value\")\n",
    "            source_value = sheet1.cell(row=row_no + start_row, column=source_col_val).value\n",
    "            if source_value is None:\n",
    "                source_value = \"\"\n",
    "\n",
    "            if target_cell in CONFIG[\"pre_fills\"] and source_value:\n",
    "                source_value = CONFIG[\"pre_fills\"][target_cell] + str(source_value)\n",
    "\n",
    "            if debug:\n",
    "                print(f\"\\t - reading AllSystems[row={row_no + start_row}, column={source_col_val}]  =  {source_value}.\")\n",
    "\n",
    "        else:  # list of str\n",
    "            if debug:\n",
    "                print(f\"\\t - detected a source list {source_col_str}:\")\n",
    "\n",
    "            source_value = \"\"\n",
    "            for col in source_col_str:\n",
    "                source_col_val = openpyxl.utils.column_index_from_string(col)\n",
    "                cell = sheet1.cell(row=row_no + start_row, column=source_col_val).value\n",
    "                if cell is not None:\n",
    "                    source_value += \"- \" + str(cell) + \"\\n\"\n",
    "\n",
    "        # Write value in new sheet\n",
    "        if debug:\n",
    "            print(f\"\\t=Setting {newsheet.title} sheet cell [{target_cell}] to value: {source_value}.\")\n",
    "        if debug:\n",
    "            print()\n",
    "        newsheet[target_cell] = str(source_value).rstrip()\n",
    "\n",
    "    sheets += 1\n"
   ]
  },
  {
   "cell_type": "code",
   "execution_count": 107,
   "metadata": {},
   "outputs": [
    {
     "name": "stdout",
     "output_type": "stream",
     "text": [
      "Cleaning ...\n",
      "115 new sheets added.\n",
      "\n"
     ]
    }
   ],
   "source": [
    "print(\"Cleaning ...\")\n",
    "\n",
    "if 'google.colab' in platform.sys.modules:\n",
    "    wb.save(\"pysheets1/\" + CONFIG[\"modified_excelfile\"])\n",
    "else:\n",
    "    wb.save(CONFIG[\"modified_excelfile\"])\n",
    "\n",
    "\n",
    "\n",
    "print(f\"{sheets} new sheets added.\")\n",
    "print()\n"
   ]
  }
 ],
 "metadata": {
  "kernelspec": {
   "display_name": "Python 3",
   "language": "python",
   "name": "python3"
  },
  "language_info": {
   "codemirror_mode": {
    "name": "ipython",
    "version": 3
   },
   "file_extension": ".py",
   "mimetype": "text/x-python",
   "name": "python",
   "nbconvert_exporter": "python",
   "pygments_lexer": "ipython3",
   "version": "3.11.4"
  },
  "orig_nbformat": 4
 },
 "nbformat": 4,
 "nbformat_minor": 2
}
